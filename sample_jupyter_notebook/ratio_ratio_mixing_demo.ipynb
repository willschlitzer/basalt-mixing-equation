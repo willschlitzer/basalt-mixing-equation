{
 "cells": [
  {
   "cell_type": "code",
   "execution_count": 4,
   "metadata": {},
   "outputs": [],
   "source": [
    "import matplotlib.pyplot as plt"
   ]
  },
  {
   "cell_type": "markdown",
   "metadata": {},
   "source": [
    "Creates the sample data\n",
    "Data from the FLAMINGO MV1007 North Galapagos cruise\n",
    "Sample 1 data is from sample D01A\n",
    "Sample 2 data is from sample D04A"
   ]
  },
  {
   "cell_type": "code",
   "execution_count": 5,
   "metadata": {},
   "outputs": [],
   "source": [
    "# x-axis ratio is Lanthanum/Niobium\n",
    "# y-axis ratio is Lanthanum/Samarium\n",
    "x_label = \"La/Nb\"\n",
    "y_label = \"La/Sm\"\n",
    "# Data is passes as a list\n",
    "# List contains [x-axis numerator, x-axis denominator, y-axis numerator, y-axis denominator]\n",
    "sample1_data = [12.94, 18.91, 12.94, 5.73]\n",
    "sample2_data = [1.56, 1.08, 1.56, 2.36]\n"
   ]
  },
  {
   "cell_type": "markdown",
   "metadata": {},
   "source": [
    "The equation from Langmuir is: Ax + Bxy + Cy + D = 0<br>\n",
    "\n",
    "The variables for ratio-ratio mixing<br>\n",
    "a<sub>1</sub>= y<sub>1</sub> ratio denominator, a<sub>2</sub>=y<sub>2</sub> ratio denominator<br>\n",
    "b<sub>1</sub>= x<sub>1</sub> ratio denominator, b<sub>2</sub>=x<sub>2</sub> ratio denominator<br>\n",
    "\n",
    "A  = a<sub>2</sub>*b<sub>1</sub>*y<sub>2</sub> - a<sub>1</sub>*b<sub>2</sub>*y<sub>1</sub><br>\n",
    "B = a<sub>1</sub>*b<sub>2</sub> - a<sub>2</sub>*b<sub>1</sub><br>\n",
    "C = a<sub>2</sub>*b<sub>1</sub>*x<sub>1</sub> - a<sub>1</sub>*b<sub>2</sub>*x<sub>2</sub><br>\n",
    "D = a<sub>1</sub>*b<sub>2</sub>*x<sub>2</sub>*y<sub>1</sub> - a<sub>2</sub>*b<sub>1</sub>*x<sub>1</sub>*y<sub>2</sub><br>"
   ]
  },
  {
   "cell_type": "code",
   "execution_count": 6,
   "metadata": {},
   "outputs": [],
   "source": [
    "x1 = sample1_data[0] / sample1_data[1]\n",
    "y1 = sample1_data[2] / sample1_data[3]\n",
    "x2 = sample2_data[0] / sample2_data[1]\n",
    "y2 = sample2_data[2] / sample2_data[3]\n",
    "\n",
    "a1 = sample1_data[3]\n",
    "b1 = sample1_data[1]\n",
    "a2 = sample2_data[3]\n",
    "b2 = sample2_data[1]\n",
    "\n",
    "A = a2 * b1 * y2 - a1 * b2 * y1\n",
    "B = a1 * b2 - a2 * b1\n",
    "C = a2 * b1 * x1 - a1 * b2 * x2\n",
    "D = a1 * b2 * x2 * y1 - a2 * b1 * x1 * y2"
   ]
  },
  {
   "cell_type": "code",
   "execution_count": 7,
   "metadata": {},
   "outputs": [],
   "source": [
    "x_values, y_values = [], []\n",
    "\n",
    "for i in range(0,11):\n",
    "    current_step = .1 * i\n",
    "    x = x1 * current_step + x2 * (1 - current_step)\n",
    "    # Determines the y-value based upon x-value\n",
    "    y = (-(A * x) - D) / (B * x + C)\n",
    "    x_values.append(x)\n",
    "    y_values.append(y)"
   ]
  },
  {
   "cell_type": "code",
   "execution_count": 8,
   "metadata": {},
   "outputs": [
    {
     "data": {
      "image/png": "[encoded data removed]",
      "text/plain": [
       "<Figure size 432x288 with 1 Axes>"
      ]
     },
     "metadata": {},
     "output_type": "display_data"
    }
   ],
   "source": [
    "plt.plot(x_values, y_values)\n",
    "plt.show()"
   ]
  },
  {
   "cell_type": "code",
   "execution_count": null,
   "metadata": {},
   "outputs": [],
   "source": []
  }
 ],
 "metadata": {
  "kernelspec": {
   "display_name": "Python 3",
   "language": "python",
   "name": "python3"
  },
  "language_info": {
   "codemirror_mode": {
    "name": "ipython",
    "version": 3
   },
   "file_extension": ".py",
   "mimetype": "text/x-python",
   "name": "python",
   "nbconvert_exporter": "python",
   "pygments_lexer": "ipython3",
   "version": "3.7.0"
  }
 },
 "nbformat": 4,
 "nbformat_minor": 1
}
